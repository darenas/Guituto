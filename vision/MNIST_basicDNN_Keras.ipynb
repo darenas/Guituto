{
 "cells": [
  {
   "cell_type": "markdown",
   "metadata": {},
   "source": [
    "# Basic DNN tutorial using Keras+TF on the MNIST dataset"
   ]
  },
  {
   "cell_type": "code",
   "execution_count": 1,
   "metadata": {},
   "outputs": [
    {
     "name": "stderr",
     "output_type": "stream",
     "text": [
      "C:\\Users\\darenas\\AppData\\Local\\Continuum\\anaconda3\\envs\\condaPy3TFKe\\lib\\site-packages\\h5py\\__init__.py:36: FutureWarning: Conversion of the second argument of issubdtype from `float` to `np.floating` is deprecated. In future, it will be treated as `np.float64 == np.dtype(float).type`.\n",
      "  from ._conv import register_converters as _register_converters\n",
      "Using TensorFlow backend.\n"
     ]
    }
   ],
   "source": [
    "import numpy as np\n",
    "\n",
    "from keras.datasets import mnist\n",
    "from keras.models import Sequential\n",
    "from keras.layers.core import Dense, Dropout, Activation\n",
    "from keras.utils import np_utils\n",
    "\n",
    "import matplotlib.pyplot as plt\n",
    "\n",
    "%matplotlib inline\n",
    "\n",
    "#plt.rcParams['figure.figsize'] = (14,14) # Defines the size of the images for display only"
   ]
  },
  {
   "cell_type": "markdown",
   "metadata": {},
   "source": [
    "First things first, lets load the data we are going to use.\n",
    "Fortunately, Keras propose some functions to retreive some popular datasets (generally used for testing and learning). More information here ([Keras datasets](https://keras.io/datasets/)).\n",
    "The MNIST training dataset containns 60K 28x28pixel images, each one containing a single digit (between 0 to 9). For a comprehensive description of the dataset go to ([MNIST](http://yann.lecun.com/exdb/mnist/)).\n",
    "The following lines of code will load the data and show its size."
   ]
  },
  {
   "cell_type": "code",
   "execution_count": 2,
   "metadata": {},
   "outputs": [
    {
     "name": "stdout",
     "output_type": "stream",
     "text": [
      "X_train original shape (60000, 28, 28)\n",
      "y_train original shape (60000,)\n"
     ]
    }
   ],
   "source": [
    "# the data, shuffled and split between tran and test sets\n",
    "(X_trainFull, y_trainFull), (X_test_o, y_test_o) = mnist.load_data()\n",
    "print(\"X_train original shape\", X_trainFull.shape)\n",
    "print(\"y_train original shape\", y_trainFull.shape)"
   ]
  },
  {
   "cell_type": "markdown",
   "metadata": {},
   "source": [
    "Since the original MNIST dataset does not contain a validation set, we are going to create one by randomly selecting 10K images from the training dataset. Therefore, we will have the following sets to work with:\n",
    "* Training set (50K images): for training the model\n",
    "* Validation set (10K images): for validate the model, perform adjustements\n",
    "* Test set (10K images): for evaluating the moded using data that wasnt used during training, tuning and validation "
   ]
  },
  {
   "cell_type": "code",
   "execution_count": 3,
   "metadata": {},
   "outputs": [
    {
     "name": "stdout",
     "output_type": "stream",
     "text": [
      "X_train shape (50000, 28, 28)\n",
      "X_validate shape (10000, 28, 28)\n",
      "X_test shape (10000, 28, 28)\n"
     ]
    }
   ],
   "source": [
    "indices = np.random.permutation(60000)\n",
    "training_idx, validation_idx = indices[:50000], indices[50000:]\n",
    "X_train_o, X_val_o = X_trainFull[training_idx,:], X_trainFull[validation_idx,:]\n",
    "y_train_o, y_val_o = y_trainFull[training_idx,], y_trainFull[validation_idx,]\n",
    "\n",
    "print(\"X_train shape\", X_train_o.shape)\n",
    "print(\"X_validate shape\", X_val_o.shape)\n",
    "print(\"X_test shape\", X_test_o.shape)"
   ]
  },
  {
   "cell_type": "markdown",
   "metadata": {},
   "source": [
    "We know that we have 10 classes for this dataset (digits between 0 to 9) but lets verify this by checking how many different labels are on ***y_train***."
   ]
  },
  {
   "cell_type": "code",
   "execution_count": 4,
   "metadata": {},
   "outputs": [
    {
     "name": "stdout",
     "output_type": "stream",
     "text": [
      "Correct! There are indeed 10 unique labels on y_train\n"
     ]
    }
   ],
   "source": [
    "nb_classes = 10\n",
    "\n",
    "if nb_classes == len(np.unique(y_train_o)) :\n",
    "    print(\"Correct! There are indeed 10 unique labels on y_train\")\n",
    "else:\n",
    "    print(\"Something is wrong, the nb_classes does not correspond to the number of unique labes on y_train\")"
   ]
  },
  {
   "cell_type": "markdown",
   "metadata": {},
   "source": [
    "Let's see now some of the data, the next lines of code will display 9 consecutive images of the training dataset. Feel free to modify the ***initIdx*** (remember to keep it within 0 and 49991)"
   ]
  },
  {
   "cell_type": "code",
   "execution_count": 5,
   "metadata": {},
   "outputs": [
    {
     "data": {
      "image/png": "[encoded data removed]",
      "text/plain": [
       "<Figure size 576x576 with 9 Axes>"
      ]
     },
     "metadata": {},
     "output_type": "display_data"
    }
   ],
   "source": [
    "initIdx = 1001\n",
    "someRange = np.add(list(range(9)), initIdx)\n",
    "plt.figure(figsize=(8,8))\n",
    "for i in someRange:\n",
    "    ax = plt.subplot(3,3,i-initIdx+1)\n",
    "    ax.set_xticks([])\n",
    "    ax.set_yticks([])\n",
    "    plt.imshow(X_train_o[i], cmap='gray')\n",
    "    plt.title(\"Class {}\".format(y_train_o[i]))"
   ]
  },
  {
   "cell_type": "markdown",
   "metadata": {},
   "source": [
    "The architecture of the Neural Networ we are going to build in this example is described in the followinf figure. It taks as input the entire image (i.e., the matrix of 28x28 pixels). Next, three fully connected layers containing 128 neurons each and finally an output layer containing 10 neurons, one neuron for each class (digits 0 to 9).\n",
    "<img src=\"images/figure2.png\">"
   ]
  },
  {
   "cell_type": "markdown",
   "metadata": {},
   "source": [
    "For convenience the input matrix will be flatten in a one dimentional vector of 28x28 = 784 elements.\n",
    "Neural networks work typically better with normalized data, so instead of having input values ranging from 0 to 255, we are going to normalize these values between 0 and 1 (by dividing each value by 255)."
   ]
  },
  {
   "cell_type": "code",
   "execution_count": 6,
   "metadata": {},
   "outputs": [
    {
     "name": "stdout",
     "output_type": "stream",
     "text": [
      "Training matrix shape (50000, 784)\n",
      "Validation matrix shape (10000, 784)\n",
      "Testing matrix shape (10000, 784)\n"
     ]
    }
   ],
   "source": [
    "X_train = X_train_o.reshape(50000, 784)\n",
    "X_val = X_val_o.reshape(10000, 784)\n",
    "X_test = X_test_o.reshape(10000, 784)\n",
    "X_train = np.array(X_train, dtype='float32')\n",
    "X_val = np.array(X_val, dtype='float32')\n",
    "X_test = np.array(X_test, dtype='float32')\n",
    "X_train /= 255\n",
    "X_val /= 255\n",
    "X_test /= 255\n",
    "print(\"Training matrix shape\", X_train.shape)\n",
    "print(\"Validation matrix shape\", X_val.shape)\n",
    "print(\"Testing matrix shape\", X_test.shape)"
   ]
  },
  {
   "cell_type": "markdown",
   "metadata": {},
   "source": [
    "To match the size of the output of the neural network (which can be seen as a vector or 10 elements ranging from 0 to 1) we are going to transform the labels using the one-hot format. This means:<br>\n",
    "0 becomes the vector \\[1, 0, 0, 0, 0, 0, 0, 0, 0, 0\\]<br>\n",
    "1 becomes the vector \\[0, 1, 0, 0, 0, 0, 0, 0, 0, 0\\]<br>\n",
    "2 becomes the vector \\[0, 0, 1, 0, 0, 0, 0, 0, 0, 0\\]<br>\n",
    "3 becomes the vector \\[0, 0, 0, 1, 0, 0, 0, 0, 0, 0\\]<br>\n",
    "...<br>\n",
    "Feel free to change the ***idx*** to check other values"
   ]
  },
  {
   "cell_type": "code",
   "execution_count": 7,
   "metadata": {},
   "outputs": [
    {
     "name": "stdout",
     "output_type": "stream",
     "text": [
      "Original Y[1500] = 3, its corresponding one-hot representation = [0. 0. 0. 1. 0. 0. 0. 0. 0. 0.]\n"
     ]
    }
   ],
   "source": [
    "y_train = np_utils.to_categorical(y_train_o, nb_classes)\n",
    "y_val = np_utils.to_categorical(y_val_o, nb_classes)\n",
    "y_test = np_utils.to_categorical(y_test_o, nb_classes)\n",
    "idx = 1500\n",
    "print(\"Original Y[%d] = %d, its corresponding one-hot representation = %s\"%(idx, y_train_o[idx], str(y_train[idx]) ) )"
   ]
  },
  {
   "cell_type": "markdown",
   "metadata": {},
   "source": [
    "The following lines of code will create the neural network wich will be stored on the variable ***model***. This simple deep neural network architecture is composed of 4 layers:<br>\n",
    "* one imput layer of 784 neurons (each one corresponding to a pixel on the image)\n",
    "* three hidden fully connected layer of 128 neurons each (the activation function\\* chosen is the REctified Linear Unit RELU followed by a dropout regularization\\* to reduce overfitting)\n",
    "* one output layer of 10 neurons activated by a softmax function (which means that the sum of all values of the outputs is 1)\n",
    "\n",
    "\\* other activation functions and regularization methods can be used, for an introduction check [activation functions](https://en.wikipedia.org/wiki/Activation_function) and [regularization](https://www.analyticsvidhya.com/blog/2018/04/fundamentals-deep-learning-regularization-techniques/)"
   ]
  },
  {
   "cell_type": "code",
   "execution_count": 8,
   "metadata": {},
   "outputs": [],
   "source": [
    "model = Sequential()\n",
    "model.add(Dense(128, input_shape=(784,)))\n",
    "model.add(Activation('relu'))                           \n",
    "model.add(Dropout(0.25))   \n",
    "model.add(Dense(128))\n",
    "model.add(Activation('relu'))\n",
    "model.add(Dropout(0.25))\n",
    "model.add(Dense(128))\n",
    "model.add(Activation('relu'))\n",
    "model.add(Dropout(0.25))\n",
    "model.add(Dense(10))\n",
    "model.add(Activation('softmax'))"
   ]
  },
  {
   "cell_type": "markdown",
   "metadata": {},
   "source": [
    "Python is an excellent choice for fast prototyping and developping, but it lacks the power to efficiently run the multiple complex mathematical operations on the CPU/GPU required to train a neural network. By using Keras library, which in turn relies on Tensorflow (or Theano), we are able to design the architecture of the neural network without worrying about the actual implementation of the computation graph. It is in this graph where the actual calculations take place, by calling the  ***compile*** function this computation graph is generated according to the model we defined. For this example, we are using the [Adam](https://keras.io/optimizers/) optimizer and the [Accuracy](https://towardsdatascience.com/accuracy-precision-recall-or-f1-331fb37c5cb9) as a measure or quality. "
   ]
  },
  {
   "cell_type": "code",
   "execution_count": 9,
   "metadata": {},
   "outputs": [],
   "source": [
    "model.compile(loss='categorical_crossentropy', optimizer='adam', metrics=['accuracy'])"
   ]
  },
  {
   "cell_type": "markdown",
   "metadata": {},
   "source": [
    "Once generated, this computation graph is ready to perform training (or predictions), note that these libraries will produce a highly optimized graph for the current system (e.g., single CPU or multiple GPUs). We then begin the raining by invoking the ***fit*** function. Note that all 60K images of the training set will be used for training 4 times (number of ***epochs***). Moreover, since matrix multiplication is the main operation behind neural networks and these are highly parallelisable, neural networks are able to process several input images at the same time (***batch_size***), feel free to modify this value. "
   ]
  },
  {
   "cell_type": "code",
   "execution_count": 10,
   "metadata": {},
   "outputs": [
    {
     "name": "stdout",
     "output_type": "stream",
     "text": [
      "Train on 50000 samples, validate on 10000 samples\n",
      "Epoch 1/4\n",
      "50000/50000 [==============================] - 3s 61us/step - loss: 0.6215 - acc: 0.8052 - val_loss: 0.2084 - val_acc: 0.9363\n",
      "Epoch 2/4\n",
      "50000/50000 [==============================] - 3s 52us/step - loss: 0.2362 - acc: 0.9306 - val_loss: 0.1405 - val_acc: 0.9561\n",
      "Epoch 3/4\n",
      "50000/50000 [==============================] - 2s 49us/step - loss: 0.1769 - acc: 0.9489 - val_loss: 0.1208 - val_acc: 0.9638\n",
      "Epoch 4/4\n",
      "50000/50000 [==============================] - 3s 51us/step - loss: 0.1500 - acc: 0.9557 - val_loss: 0.1093 - val_acc: 0.9671\n"
     ]
    },
    {
     "data": {
      "text/plain": [
       "<keras.callbacks.History at 0x2d427324be0>"
      ]
     },
     "execution_count": 10,
     "metadata": {},
     "output_type": "execute_result"
    }
   ],
   "source": [
    "model.fit(X_train, y_train,\n",
    "          epochs=4,\n",
    "          batch_size=256, \n",
    "          verbose=1,\n",
    "          validation_data=(X_val, y_val))"
   ]
  },
  {
   "cell_type": "markdown",
   "metadata": {},
   "source": [
    "The training accuracy should be close to 97% while the validation accuracy whould be close to 98%. This means that in average, the network is able to correctly recognise a digit 97-98% of the time. At this point, we would normally perform [Hyperparameter Tuning](https://en.wikipedia.org/wiki/Hyperparameter_optimization) by using the validation set as a benchmark. However, since our algorithm performs so well we are going to use the test set to measure its *real* accuracy. "
   ]
  },
  {
   "cell_type": "code",
   "execution_count": 11,
   "metadata": {},
   "outputs": [
    {
     "name": "stdout",
     "output_type": "stream",
     "text": [
      "10000/10000 [==============================] - 1s 64us/step\n",
      "Test score: 0.09912217600923032\n",
      "Test accuracy: 0.9706\n"
     ]
    }
   ],
   "source": [
    "score = model.evaluate(X_test, y_test,\n",
    "                       verbose=1)\n",
    "print('Test score:', score[0])\n",
    "print('Test accuracy:', score[1])"
   ]
  },
  {
   "cell_type": "markdown",
   "metadata": {},
   "source": [
    "We can see that the accuracy on the test set is similar to the one obtained on the validation set (around 98%), this means our algorithm is not overfitting our trainning/validation data and maintains its mean accuracy.<br>\n",
    "It is not perfect hoever, some images are not correctly classified, lets see which images are correctly classified and which are not."
   ]
  },
  {
   "cell_type": "code",
   "execution_count": 12,
   "metadata": {},
   "outputs": [],
   "source": [
    "# The predict_classes function outputs the highest probability class\n",
    "# according to the trained classifier for each input example.\n",
    "predicted_classes = model.predict_classes(X_test)\n",
    "\n",
    "# Check which items we got right / wrong\n",
    "correct_indices = np.nonzero(predicted_classes == y_test_o)[0]\n",
    "incorrect_indices = np.nonzero(predicted_classes != y_test_o)[0]"
   ]
  },
  {
   "cell_type": "markdown",
   "metadata": {},
   "source": [
    "First, the following code will show a group of correctly classified images from the test set"
   ]
  },
  {
   "cell_type": "code",
   "execution_count": 13,
   "metadata": {},
   "outputs": [
    {
     "data": {
      "text/plain": [
       "<Figure size 432x288 with 0 Axes>"
      ]
     },
     "metadata": {},
     "output_type": "display_data"
    },
    {
     "data": {
      "image/png": "[encoded data removed]",
      "text/plain": [
       "<Figure size 576x576 with 9 Axes>"
      ]
     },
     "metadata": {},
     "output_type": "display_data"
    }
   ],
   "source": [
    "plt.figure()\n",
    "plt.figure(figsize=(8,8))\n",
    "for i, correct in enumerate(correct_indices[:9]):\n",
    "    ax = plt.subplot(3,3,i+1)\n",
    "    ax.set_xticks([])\n",
    "    ax.set_yticks([])\n",
    "    plt.imshow(X_test[correct].reshape(28,28), cmap='gray', interpolation='none')\n",
    "    plt.title(\"Predicted {}, Class {}\".format(predicted_classes[correct], y_test_o[correct]))"
   ]
  },
  {
   "cell_type": "markdown",
   "metadata": {},
   "source": [
    "Next, some images that are incorrectly classified"
   ]
  },
  {
   "cell_type": "code",
   "execution_count": 14,
   "metadata": {},
   "outputs": [
    {
     "data": {
      "text/plain": [
       "<Figure size 432x288 with 0 Axes>"
      ]
     },
     "metadata": {},
     "output_type": "display_data"
    },
    {
     "data": {
      "image/png": "[encoded data removed]",
      "text/plain": [
       "<Figure size 576x576 with 9 Axes>"
      ]
     },
     "metadata": {},
     "output_type": "display_data"
    }
   ],
   "source": [
    "plt.figure()\n",
    "plt.figure(figsize=(8,8))\n",
    "for i, incorrect in enumerate(incorrect_indices[:9]):\n",
    "    ax = plt.subplot(3,3,i+1)\n",
    "    ax.set_xticks([])\n",
    "    ax.set_yticks([])\n",
    "    plt.imshow(X_test[incorrect].reshape(28,28), cmap='gray', interpolation='none')\n",
    "    plt.title(\"Predicted {}, Class {}\".format(predicted_classes[incorrect], y_test_o[incorrect]))"
   ]
  },
  {
   "cell_type": "markdown",
   "metadata": {},
   "source": [
    "Lets plot the confusion matrix. The code below is a modification of [scikit learn sample code for confusion matrix](http://scikit-learn.org/stable/auto_examples/model_selection/plot_confusion_matrix.html#sphx-glr-auto-examples-model-selection-plot-confusion-matrix-py)"
   ]
  },
  {
   "cell_type": "code",
   "execution_count": 15,
   "metadata": {},
   "outputs": [],
   "source": [
    "import itertools\n",
    "from sklearn.metrics import confusion_matrix\n",
    "\n",
    "def plot_confusion_matrix(cm, classes,\n",
    "                          normalize=True,\n",
    "                          title='Confusion matrix',\n",
    "                          cmap=plt.cm.Blues):\n",
    "    \"\"\"\n",
    "    This function prints and plots the confusion matrix.\n",
    "    Normalization can be applied by setting `normalize=True`.\n",
    "    \"\"\"\n",
    "    if normalize:\n",
    "        cm = cm.astype('float') / cm.sum(axis=1)[:, np.newaxis]\n",
    "        print(\"Normalized confusion matrix\")\n",
    "    else:\n",
    "        print('Confusion matrix, without normalization')\n",
    "\n",
    "    #print(cm)\n",
    "    plt.figure(figsize=(10,10))\n",
    "    plt.imshow(cm, interpolation='nearest', cmap=cmap)\n",
    "    plt.title(title, y=-0.1)\n",
    "    plt.colorbar()\n",
    "    tick_marks = np.arange(len(classes))\n",
    "    plt.xticks(tick_marks, classes, rotation=0)\n",
    "    plt.yticks(tick_marks, classes, rotation=0)\n",
    "\n",
    "    fmt = '.2f' if normalize else 'd'\n",
    "    thresh = cm.max() / 2.\n",
    "    for i, j in itertools.product(range(cm.shape[0]), range(cm.shape[1])):\n",
    "        plt.text(j, i, format(cm[i, j], fmt),\n",
    "                 horizontalalignment=\"center\",\n",
    "                 color=\"white\" if cm[i, j] > thresh else \"black\")\n",
    "\n",
    "    #plt.tight_layout()\n",
    "    plt.ylabel('True label', )\n",
    "    plt.xlabel('Predicted label')   \n",
    "    \n",
    "    ax = plt.gca()\n",
    "    ax.xaxis.tick_top() \n",
    "    ax.xaxis.set_label_position('top') \n",
    "    \n",
    "    plt.show()"
   ]
  },
  {
   "cell_type": "code",
   "execution_count": 16,
   "metadata": {},
   "outputs": [
    {
     "name": "stdout",
     "output_type": "stream",
     "text": [
      "Normalized confusion matrix\n"
     ]
    },
    {
     "data": {
      "image/png": "[encoded data removed]",
      "text/plain": [
       "<Figure size 720x720 with 2 Axes>"
      ]
     },
     "metadata": {},
     "output_type": "display_data"
    }
   ],
   "source": [
    "# Compute confusion matrix\n",
    "cnf_matrix = confusion_matrix(y_test_o, predicted_classes)\n",
    "np.set_printoptions(precision=2)\n",
    "\n",
    "# Plot non-normalized confusion matrix\n",
    "plot_confusion_matrix(cnf_matrix, classes=list(range(9)),\n",
    "                      title='Confusion matrix')"
   ]
  }
 ],
 "metadata": {
  "kernelspec": {
   "display_name": "Python 3",
   "language": "python",
   "name": "python3"
  },
  "language_info": {
   "codemirror_mode": {
    "name": "ipython",
    "version": 3
   },
   "file_extension": ".py",
   "mimetype": "text/x-python",
   "name": "python",
   "nbconvert_exporter": "python",
   "pygments_lexer": "ipython3",
   "version": "3.6.5"
  }
 },
 "nbformat": 4,
 "nbformat_minor": 2
}
